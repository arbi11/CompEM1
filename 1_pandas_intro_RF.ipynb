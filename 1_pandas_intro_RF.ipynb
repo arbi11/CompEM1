{
  "nbformat": 4,
  "nbformat_minor": 0,
  "metadata": {
    "colab": {
      "name": "Untitled1.ipynb",
      "version": "0.3.2",
      "provenance": [],
      "collapsed_sections": [],
      "include_colab_link": true
    },
    "kernelspec": {
      "name": "python3",
      "display_name": "Python 3"
    }
  },
  "cells": [
    {
      "cell_type": "markdown",
      "metadata": {
        "id": "view-in-github",
        "colab_type": "text"
      },
      "source": [
        "<a href=\"https://colab.research.google.com/github/arbi11/CompEM1/blob/master/1_pandas_intro_RF.ipynb\" target=\"_parent\"><img src=\"https://colab.research.google.com/assets/colab-badge.svg\" alt=\"Open In Colab\"/></a>"
      ]
    },
    {
      "cell_type": "markdown",
      "metadata": {
        "id": "3bFvjelQUM2Q",
        "colab_type": "text"
      },
      "source": [
        ""
      ]
    },
    {
      "cell_type": "markdown",
      "metadata": {
        "id": "3WWFHPxCVTN7",
        "colab_type": "text"
      },
      "source": [
        "# 1. import the necessary packages"
      ]
    },
    {
      "cell_type": "code",
      "metadata": {
        "id": "1xlIH4yzUUs_",
        "colab_type": "code",
        "colab": {}
      },
      "source": [
        "\n",
        "import numpy as np\n",
        "import pandas as pd\n",
        "import seaborn as sns\n",
        "import scipy\n"
      ],
      "execution_count": 0,
      "outputs": []
    },
    {
      "cell_type": "markdown",
      "metadata": {
        "id": "tkWZ8f4LUWmK",
        "colab_type": "text"
      },
      "source": [
        "# 2. Specify the filepath if you don't want to work with relative paths"
      ]
    },
    {
      "cell_type": "code",
      "metadata": {
        "id": "pipevEDNUnSN",
        "colab_type": "code",
        "outputId": "9a08898c-7543-4e74-dd3f-8d068dbf790e",
        "colab": {
          "base_uri": "https://localhost:8080/",
          "height": 119
        }
      },
      "source": [
        "! git clone https://github.com/arbi11/CompEM1.git"
      ],
      "execution_count": 2,
      "outputs": [
        {
          "output_type": "stream",
          "text": [
            "Cloning into 'CompEM1'...\n",
            "remote: Enumerating objects: 24, done.\u001b[K\n",
            "remote: Counting objects: 100% (24/24), done.\u001b[K\n",
            "remote: Compressing objects: 100% (24/24), done.\u001b[K\n",
            "remote: Total 24 (delta 8), reused 2 (delta 0), pack-reused 0\u001b[K\n",
            "Unpacking objects: 100% (24/24), done.\n"
          ],
          "name": "stdout"
        }
      ]
    },
    {
      "cell_type": "code",
      "metadata": {
        "id": "A9DIBQb2Usvf",
        "colab_type": "code",
        "outputId": "6aa22e65-0381-4e4c-fc66-ee8a5b9ba66c",
        "colab": {
          "base_uri": "https://localhost:8080/",
          "height": 34
        }
      },
      "source": [
        "! ls"
      ],
      "execution_count": 3,
      "outputs": [
        {
          "output_type": "stream",
          "text": [
            "CompEM1  sample_data\n"
          ],
          "name": "stdout"
        }
      ]
    },
    {
      "cell_type": "code",
      "metadata": {
        "id": "H634sIdGUuW7",
        "colab_type": "code",
        "outputId": "82d028db-e599-458f-919f-4c2e4ee90f31",
        "colab": {
          "base_uri": "https://localhost:8080/",
          "height": 34
        }
      },
      "source": [
        "cd CompEM1/\n"
      ],
      "execution_count": 4,
      "outputs": [
        {
          "output_type": "stream",
          "text": [
            "/content/CompEM1\n"
          ],
          "name": "stdout"
        }
      ]
    },
    {
      "cell_type": "code",
      "metadata": {
        "id": "ACbKMaadUxAX",
        "colab_type": "code",
        "outputId": "78f45d2b-5809-4327-85d7-4a787dabd0e0",
        "colab": {
          "base_uri": "https://localhost:8080/",
          "height": 51
        }
      },
      "source": [
        "! ls"
      ],
      "execution_count": 5,
      "outputs": [
        {
          "output_type": "stream",
          "text": [
            "1_pandas_intro.ipynb  indian_liver_patient.csv\tREADME.md\n",
            "2_RF.ipynb\t      NLP.ipynb\n"
          ],
          "name": "stdout"
        }
      ]
    },
    {
      "cell_type": "markdown",
      "metadata": {
        "id": "Jr1KOl2qU6wv",
        "colab_type": "text"
      },
      "source": [
        "In case you have a file on your local system\n",
        "\n",
        "file_path = 'D:\\\\Documents\\\\Codes\\\\Kabeer\\\\Liver\\\\'\n"
      ]
    },
    {
      "cell_type": "markdown",
      "metadata": {
        "id": "UQ_zl-M5VM5a",
        "colab_type": "text"
      },
      "source": [
        "# 3. read the data -- into a pandas dataframe "
      ]
    },
    {
      "cell_type": "code",
      "metadata": {
        "id": "Yyl2zJ6KUebK",
        "colab_type": "code",
        "colab": {}
      },
      "source": [
        "\n",
        "# 3. read the data -- into a pandas dataframe \n",
        "data_frame = pd.read_csv('indian_liver_patient.csv')\n"
      ],
      "execution_count": 0,
      "outputs": []
    },
    {
      "cell_type": "markdown",
      "metadata": {
        "id": "aBCvW7S7VX1W",
        "colab_type": "text"
      },
      "source": [
        "# 4. Some data description and analysis\n"
      ]
    },
    {
      "cell_type": "code",
      "metadata": {
        "id": "af7DAXOZUilp",
        "colab_type": "code",
        "outputId": "6f341b08-9696-456a-906a-101c35a4f6bb",
        "colab": {
          "base_uri": "https://localhost:8080/",
          "height": 300
        }
      },
      "source": [
        "# 4. Some data description and analysis\n",
        "data_frame.columns # prints the name of all the columns in ur table\n",
        "\n",
        "data_frame.dtypes # the data type of all the columns\n",
        "\n",
        "data_frame.describe() # basic statistics about your data\n",
        "\n",
        "data_frame.describe(include= 'all') # basic statistics about your data\n",
        "\n",
        "# count the number of males & females\n",
        "data_frame['Gender'].value_counts()\n",
        "\n",
        "# to convert categorical variables to quantitative (one-hot encoding)\n",
        "dataframes = pd.get_dummies(data_frame['Gender'])\n",
        "\n",
        "data_frame.head() # prints out first 5 rows of the data\n",
        "\n",
        "sns.boxplot(x = 'Gender', y = 'Albumin', data= data_frame)\n",
        "sns.boxplot(x = 'Gender', y = 'Total_Protiens', data= data_frame)\n"
      ],
      "execution_count": 9,
      "outputs": [
        {
          "output_type": "execute_result",
          "data": {
            "text/plain": [
              "<matplotlib.axes._subplots.AxesSubplot at 0x7fb2b5914048>"
            ]
          },
          "metadata": {
            "tags": []
          },
          "execution_count": 9
        },
        {
          "output_type": "display_data",
          "data": {
            "image/png": "[encoded data removed]",
            "text/plain": [
              "<Figure size 432x288 with 1 Axes>"
            ]
          },
          "metadata": {
            "tags": []
          }
        }
      ]
    },
    {
      "cell_type": "markdown",
      "metadata": {
        "id": "-1GC73BMVahl",
        "colab_type": "text"
      },
      "source": [
        "# 5. Data correlation\n"
      ]
    },
    {
      "cell_type": "code",
      "metadata": {
        "id": "LgX9V3WZUkBR",
        "colab_type": "code",
        "outputId": "ac3e8dfd-108e-4798-f905-53459c825bab",
        "colab": {
          "base_uri": "https://localhost:8080/",
          "height": 402
        }
      },
      "source": [
        "\n",
        "# 5. Data correlation\n",
        "data_frame.corr(method= 'pearson')\n",
        "\n",
        "sns.heatmap(data_frame.corr(method= 'pearson'))\n",
        "\n",
        "data_frame['Albumin_and_Globulin_Ratio'].isna()\n",
        "\n",
        "\n",
        "index = data_frame['Albumin_and_Globulin_Ratio'].index[data_frame['Albumin_and_Globulin_Ratio'].apply(np.isnan)]\n"
      ],
      "execution_count": 10,
      "outputs": [
        {
          "output_type": "display_data",
          "data": {
            "image/png": "[encoded data removed]",
            "text/plain": [
              "<Figure size 432x288 with 2 Axes>"
            ]
          },
          "metadata": {
            "tags": []
          }
        }
      ]
    },
    {
      "cell_type": "markdown",
      "metadata": {
        "id": "2cHtVUsIVncS",
        "colab_type": "text"
      },
      "source": [
        "# 6. Data manipulation"
      ]
    },
    {
      "cell_type": "markdown",
      "metadata": {
        "id": "UhiTHr2aXEwz",
        "colab_type": "text"
      },
      "source": [
        "filling in the missing values in column - 'Albumin_and_Globulin_Ratio'"
      ]
    },
    {
      "cell_type": "code",
      "metadata": {
        "id": "u7v3CQggVdtJ",
        "colab_type": "code",
        "colab": {}
      },
      "source": [
        "data_frame = data_frame.fillna(data_frame.mean())"
      ],
      "execution_count": 0,
      "outputs": []
    },
    {
      "cell_type": "markdown",
      "metadata": {
        "id": "AmIz4N4AXKck",
        "colab_type": "text"
      },
      "source": [
        "Another way of doing it by just concentrating that particular column"
      ]
    },
    {
      "cell_type": "code",
      "metadata": {
        "id": "icAfz-_NWqeO",
        "colab_type": "code",
        "colab": {}
      },
      "source": [
        "data_frame['Albumin_and_Globulin_Ratio'].fillna((data_frame['Albumin_and_Globulin_Ratio'].mean()), inplace= True)"
      ],
      "execution_count": 0,
      "outputs": []
    },
    {
      "cell_type": "code",
      "metadata": {
        "id": "ySseBz4PVkBO",
        "colab_type": "code",
        "outputId": "4381415d-6a2a-4abc-bc09-cfb7b14f367a",
        "colab": {
          "base_uri": "https://localhost:8080/",
          "height": 317
        }
      },
      "source": [
        "data_frame.describe()"
      ],
      "execution_count": 14,
      "outputs": [
        {
          "output_type": "execute_result",
          "data": {
            "text/html": [
              "<div>\n",
              "<style scoped>\n",
              "    .dataframe tbody tr th:only-of-type {\n",
              "        vertical-align: middle;\n",
              "    }\n",
              "\n",
              "    .dataframe tbody tr th {\n",
              "        vertical-align: top;\n",
              "    }\n",
              "\n",
              "    .dataframe thead th {\n",
              "        text-align: right;\n",
              "    }\n",
              "</style>\n",
              "<table border=\"1\" class=\"dataframe\">\n",
              "  <thead>\n",
              "    <tr style=\"text-align: right;\">\n",
              "      <th></th>\n",
              "      <th>Age</th>\n",
              "      <th>Total_Bilirubin</th>\n",
              "      <th>Direct_Bilirubin</th>\n",
              "      <th>Alkaline_Phosphotase</th>\n",
              "      <th>Alamine_Aminotransferase</th>\n",
              "      <th>Aspartate_Aminotransferase</th>\n",
              "      <th>Total_Protiens</th>\n",
              "      <th>Albumin</th>\n",
              "      <th>Albumin_and_Globulin_Ratio</th>\n",
              "      <th>Dataset</th>\n",
              "    </tr>\n",
              "  </thead>\n",
              "  <tbody>\n",
              "    <tr>\n",
              "      <th>count</th>\n",
              "      <td>583.000000</td>\n",
              "      <td>583.000000</td>\n",
              "      <td>583.000000</td>\n",
              "      <td>583.000000</td>\n",
              "      <td>583.000000</td>\n",
              "      <td>583.000000</td>\n",
              "      <td>583.000000</td>\n",
              "      <td>583.000000</td>\n",
              "      <td>583.000000</td>\n",
              "      <td>583.000000</td>\n",
              "    </tr>\n",
              "    <tr>\n",
              "      <th>mean</th>\n",
              "      <td>44.746141</td>\n",
              "      <td>3.298799</td>\n",
              "      <td>1.486106</td>\n",
              "      <td>290.576329</td>\n",
              "      <td>80.713551</td>\n",
              "      <td>109.910806</td>\n",
              "      <td>6.483190</td>\n",
              "      <td>3.141852</td>\n",
              "      <td>0.947064</td>\n",
              "      <td>1.286449</td>\n",
              "    </tr>\n",
              "    <tr>\n",
              "      <th>std</th>\n",
              "      <td>16.189833</td>\n",
              "      <td>6.209522</td>\n",
              "      <td>2.808498</td>\n",
              "      <td>242.937989</td>\n",
              "      <td>182.620356</td>\n",
              "      <td>288.918529</td>\n",
              "      <td>1.085451</td>\n",
              "      <td>0.795519</td>\n",
              "      <td>0.318492</td>\n",
              "      <td>0.452490</td>\n",
              "    </tr>\n",
              "    <tr>\n",
              "      <th>min</th>\n",
              "      <td>4.000000</td>\n",
              "      <td>0.400000</td>\n",
              "      <td>0.100000</td>\n",
              "      <td>63.000000</td>\n",
              "      <td>10.000000</td>\n",
              "      <td>10.000000</td>\n",
              "      <td>2.700000</td>\n",
              "      <td>0.900000</td>\n",
              "      <td>0.300000</td>\n",
              "      <td>1.000000</td>\n",
              "    </tr>\n",
              "    <tr>\n",
              "      <th>25%</th>\n",
              "      <td>33.000000</td>\n",
              "      <td>0.800000</td>\n",
              "      <td>0.200000</td>\n",
              "      <td>175.500000</td>\n",
              "      <td>23.000000</td>\n",
              "      <td>25.000000</td>\n",
              "      <td>5.800000</td>\n",
              "      <td>2.600000</td>\n",
              "      <td>0.700000</td>\n",
              "      <td>1.000000</td>\n",
              "    </tr>\n",
              "    <tr>\n",
              "      <th>50%</th>\n",
              "      <td>45.000000</td>\n",
              "      <td>1.000000</td>\n",
              "      <td>0.300000</td>\n",
              "      <td>208.000000</td>\n",
              "      <td>35.000000</td>\n",
              "      <td>42.000000</td>\n",
              "      <td>6.600000</td>\n",
              "      <td>3.100000</td>\n",
              "      <td>0.947064</td>\n",
              "      <td>1.000000</td>\n",
              "    </tr>\n",
              "    <tr>\n",
              "      <th>75%</th>\n",
              "      <td>58.000000</td>\n",
              "      <td>2.600000</td>\n",
              "      <td>1.300000</td>\n",
              "      <td>298.000000</td>\n",
              "      <td>60.500000</td>\n",
              "      <td>87.000000</td>\n",
              "      <td>7.200000</td>\n",
              "      <td>3.800000</td>\n",
              "      <td>1.100000</td>\n",
              "      <td>2.000000</td>\n",
              "    </tr>\n",
              "    <tr>\n",
              "      <th>max</th>\n",
              "      <td>90.000000</td>\n",
              "      <td>75.000000</td>\n",
              "      <td>19.700000</td>\n",
              "      <td>2110.000000</td>\n",
              "      <td>2000.000000</td>\n",
              "      <td>4929.000000</td>\n",
              "      <td>9.600000</td>\n",
              "      <td>5.500000</td>\n",
              "      <td>2.800000</td>\n",
              "      <td>2.000000</td>\n",
              "    </tr>\n",
              "  </tbody>\n",
              "</table>\n",
              "</div>"
            ],
            "text/plain": [
              "              Age  Total_Bilirubin  ...  Albumin_and_Globulin_Ratio     Dataset\n",
              "count  583.000000       583.000000  ...                  583.000000  583.000000\n",
              "mean    44.746141         3.298799  ...                    0.947064    1.286449\n",
              "std     16.189833         6.209522  ...                    0.318492    0.452490\n",
              "min      4.000000         0.400000  ...                    0.300000    1.000000\n",
              "25%     33.000000         0.800000  ...                    0.700000    1.000000\n",
              "50%     45.000000         1.000000  ...                    0.947064    1.000000\n",
              "75%     58.000000         2.600000  ...                    1.100000    2.000000\n",
              "max     90.000000        75.000000  ...                    2.800000    2.000000\n",
              "\n",
              "[8 rows x 10 columns]"
            ]
          },
          "metadata": {
            "tags": []
          },
          "execution_count": 14
        }
      ]
    },
    {
      "cell_type": "markdown",
      "metadata": {
        "id": "4UwJlT8v7Be7",
        "colab_type": "text"
      },
      "source": [
        "# 7. One - hot encoding\n",
        "\n",
        "Converting the 'Gender' column to two numerical values (1-hot) 'Gender_Male' & 'Gender_female'"
      ]
    },
    {
      "cell_type": "code",
      "metadata": {
        "id": "ON3ES2wj5x4q",
        "colab_type": "code",
        "colab": {}
      },
      "source": [
        "data_frame2 = pd.get_dummies(data_frame, prefix=['Gender'])\n"
      ],
      "execution_count": 0,
      "outputs": []
    },
    {
      "cell_type": "code",
      "metadata": {
        "id": "1QrZPKif5_cq",
        "colab_type": "code",
        "colab": {
          "base_uri": "https://localhost:8080/",
          "height": 224
        },
        "outputId": "20e7f681-42ab-43f1-b544-b07ee0b2efc9"
      },
      "source": [
        "data_frame2.head()"
      ],
      "execution_count": 25,
      "outputs": [
        {
          "output_type": "execute_result",
          "data": {
            "text/html": [
              "<div>\n",
              "<style scoped>\n",
              "    .dataframe tbody tr th:only-of-type {\n",
              "        vertical-align: middle;\n",
              "    }\n",
              "\n",
              "    .dataframe tbody tr th {\n",
              "        vertical-align: top;\n",
              "    }\n",
              "\n",
              "    .dataframe thead th {\n",
              "        text-align: right;\n",
              "    }\n",
              "</style>\n",
              "<table border=\"1\" class=\"dataframe\">\n",
              "  <thead>\n",
              "    <tr style=\"text-align: right;\">\n",
              "      <th></th>\n",
              "      <th>Age</th>\n",
              "      <th>Total_Bilirubin</th>\n",
              "      <th>Direct_Bilirubin</th>\n",
              "      <th>Alkaline_Phosphotase</th>\n",
              "      <th>Alamine_Aminotransferase</th>\n",
              "      <th>Aspartate_Aminotransferase</th>\n",
              "      <th>Total_Protiens</th>\n",
              "      <th>Albumin</th>\n",
              "      <th>Albumin_and_Globulin_Ratio</th>\n",
              "      <th>Dataset</th>\n",
              "      <th>Gender_Female</th>\n",
              "      <th>Gender_Male</th>\n",
              "    </tr>\n",
              "  </thead>\n",
              "  <tbody>\n",
              "    <tr>\n",
              "      <th>0</th>\n",
              "      <td>65</td>\n",
              "      <td>0.7</td>\n",
              "      <td>0.1</td>\n",
              "      <td>187</td>\n",
              "      <td>16</td>\n",
              "      <td>18</td>\n",
              "      <td>6.8</td>\n",
              "      <td>3.3</td>\n",
              "      <td>0.90</td>\n",
              "      <td>1</td>\n",
              "      <td>1</td>\n",
              "      <td>0</td>\n",
              "    </tr>\n",
              "    <tr>\n",
              "      <th>1</th>\n",
              "      <td>62</td>\n",
              "      <td>10.9</td>\n",
              "      <td>5.5</td>\n",
              "      <td>699</td>\n",
              "      <td>64</td>\n",
              "      <td>100</td>\n",
              "      <td>7.5</td>\n",
              "      <td>3.2</td>\n",
              "      <td>0.74</td>\n",
              "      <td>1</td>\n",
              "      <td>0</td>\n",
              "      <td>1</td>\n",
              "    </tr>\n",
              "    <tr>\n",
              "      <th>2</th>\n",
              "      <td>62</td>\n",
              "      <td>7.3</td>\n",
              "      <td>4.1</td>\n",
              "      <td>490</td>\n",
              "      <td>60</td>\n",
              "      <td>68</td>\n",
              "      <td>7.0</td>\n",
              "      <td>3.3</td>\n",
              "      <td>0.89</td>\n",
              "      <td>1</td>\n",
              "      <td>0</td>\n",
              "      <td>1</td>\n",
              "    </tr>\n",
              "    <tr>\n",
              "      <th>3</th>\n",
              "      <td>58</td>\n",
              "      <td>1.0</td>\n",
              "      <td>0.4</td>\n",
              "      <td>182</td>\n",
              "      <td>14</td>\n",
              "      <td>20</td>\n",
              "      <td>6.8</td>\n",
              "      <td>3.4</td>\n",
              "      <td>1.00</td>\n",
              "      <td>1</td>\n",
              "      <td>0</td>\n",
              "      <td>1</td>\n",
              "    </tr>\n",
              "    <tr>\n",
              "      <th>4</th>\n",
              "      <td>72</td>\n",
              "      <td>3.9</td>\n",
              "      <td>2.0</td>\n",
              "      <td>195</td>\n",
              "      <td>27</td>\n",
              "      <td>59</td>\n",
              "      <td>7.3</td>\n",
              "      <td>2.4</td>\n",
              "      <td>0.40</td>\n",
              "      <td>1</td>\n",
              "      <td>0</td>\n",
              "      <td>1</td>\n",
              "    </tr>\n",
              "  </tbody>\n",
              "</table>\n",
              "</div>"
            ],
            "text/plain": [
              "   Age  Total_Bilirubin  Direct_Bilirubin  ...  Dataset  Gender_Female  Gender_Male\n",
              "0   65              0.7               0.1  ...        1              1            0\n",
              "1   62             10.9               5.5  ...        1              0            1\n",
              "2   62              7.3               4.1  ...        1              0            1\n",
              "3   58              1.0               0.4  ...        1              0            1\n",
              "4   72              3.9               2.0  ...        1              0            1\n",
              "\n",
              "[5 rows x 12 columns]"
            ]
          },
          "metadata": {
            "tags": []
          },
          "execution_count": 25
        }
      ]
    },
    {
      "cell_type": "markdown",
      "metadata": {
        "id": "p5vMWbxI7Yed",
        "colab_type": "text"
      },
      "source": [
        "Another way of doing the same ...i guess (havent tried...check for yourself)"
      ]
    },
    {
      "cell_type": "code",
      "metadata": {
        "id": "xweAtg2-yxcf",
        "colab_type": "code",
        "colab": {}
      },
      "source": [
        "# from sklearn.preprocessing import LabelEncoder"
      ],
      "execution_count": 0,
      "outputs": []
    },
    {
      "cell_type": "code",
      "metadata": {
        "id": "-nk3U9jl0RwX",
        "colab_type": "code",
        "colab": {}
      },
      "source": [
        "# encoder = LabelEncoder()\n"
      ],
      "execution_count": 0,
      "outputs": []
    },
    {
      "cell_type": "markdown",
      "metadata": {
        "id": "NVOaZA1K7jJz",
        "colab_type": "text"
      },
      "source": [
        "# 8. Seperating Attributes/Features & Labels"
      ]
    },
    {
      "cell_type": "code",
      "metadata": {
        "id": "SPSgZTKRxu9u",
        "colab_type": "code",
        "colab": {}
      },
      "source": [
        "X = data_frame2.loc[:, data_frame2.columns != 'Dataset']\n",
        "# X=data[['Age', 'Total_Bilirubin', 'petal length', 'petal width']]  # Features\n",
        "y = data_frame2['Dataset']  # Labels"
      ],
      "execution_count": 0,
      "outputs": []
    },
    {
      "cell_type": "markdown",
      "metadata": {
        "id": "iiVB8GuR7vH2",
        "colab_type": "text"
      },
      "source": [
        "# 9. Train - Test split"
      ]
    },
    {
      "cell_type": "code",
      "metadata": {
        "id": "hk6M38z0xYVd",
        "colab_type": "code",
        "colab": {}
      },
      "source": [
        "# Import train_test_split function\n",
        "from sklearn.model_selection import train_test_split"
      ],
      "execution_count": 0,
      "outputs": []
    },
    {
      "cell_type": "code",
      "metadata": {
        "id": "oBzmDDy3xq1Y",
        "colab_type": "code",
        "colab": {}
      },
      "source": [
        "X_train, X_test, y_train, y_test = train_test_split(X, y, test_size=0.3) # 70% training and 30% test"
      ],
      "execution_count": 0,
      "outputs": []
    },
    {
      "cell_type": "markdown",
      "metadata": {
        "id": "dk3bvmn47z_Q",
        "colab_type": "text"
      },
      "source": [
        "# 10. Random Forest Model\n",
        "\n",
        "\n",
        "\n",
        "1.   change the 'n_estimators' parameter\n",
        "2.   There are others as well like max_tree_len.....etc...check the documentation\n",
        "[sklearn-RF](https://scikit-learn.org/stable/modules/generated/sklearn.ensemble.RandomForestClassifier.html)\n",
        "\n"
      ]
    },
    {
      "cell_type": "code",
      "metadata": {
        "id": "2EPbBa7VyYsX",
        "colab_type": "code",
        "colab": {}
      },
      "source": [
        "#Import Random Forest Model\n",
        "from sklearn.ensemble import RandomForestClassifier\n",
        "\n",
        "#Create a Gaussian Classifier\n",
        "clf=RandomForestClassifier(n_estimators=750)\n",
        "\n",
        "#Train the model using the training sets y_pred=clf.predict(X_test)\n",
        "clf.fit(X_train,y_train)\n",
        "\n",
        "y_pred=clf.predict(X_test)"
      ],
      "execution_count": 0,
      "outputs": []
    },
    {
      "cell_type": "markdown",
      "metadata": {
        "id": "p-taA4W88ZBR",
        "colab_type": "text"
      },
      "source": [
        "Predict/ Check on the Test set "
      ]
    },
    {
      "cell_type": "code",
      "metadata": {
        "id": "zypCaAeJyfw1",
        "colab_type": "code",
        "colab": {
          "base_uri": "https://localhost:8080/",
          "height": 34
        },
        "outputId": "97eb06c7-44fd-48f0-e208-dfe7f2ac03af"
      },
      "source": [
        "#Import scikit-learn metrics module for accuracy calculation\n",
        "from sklearn import metrics\n",
        "# Model Accuracy, how often is the classifier correct?\n",
        "print(\"Accuracy:\",metrics.accuracy_score(y_test, y_pred))"
      ],
      "execution_count": 48,
      "outputs": [
        {
          "output_type": "stream",
          "text": [
            "Accuracy: 0.7314285714285714\n"
          ],
          "name": "stdout"
        }
      ]
    },
    {
      "cell_type": "code",
      "metadata": {
        "id": "9fwsS2V96YRE",
        "colab_type": "code",
        "colab": {}
      },
      "source": [
        ""
      ],
      "execution_count": 0,
      "outputs": []
    }
  ]
}